{
 "cells": [
  {
   "cell_type": "markdown",
   "metadata": {},
   "source": [
    "# Moloco Takehome Analysis"
   ]
  },
  {
   "cell_type": "markdown",
   "metadata": {},
   "source": [
    "Jeremy Chow, 09/07/2019"
   ]
  },
  {
   "cell_type": "code",
   "execution_count": 11,
   "metadata": {},
   "outputs": [],
   "source": [
    "import pandas as pd\n",
    "import matplotlib.pyplot as plt\n",
    "import seaborn as sns\n",
    "import numpy as np"
   ]
  },
  {
   "cell_type": "markdown",
   "metadata": {},
   "source": [
    "# Q1 a\n",
    "Consider only the rows with country_id = \"BDV\" (there are 844 such rows). For each site_id, we can compute the number of unique user_id's found in these 844 rows. Which site_id has the largest number of unique users? And what's the number?"
   ]
  },
  {
   "cell_type": "markdown",
   "metadata": {},
   "source": [
    "Import data, look at column types and format:"
   ]
  },
  {
   "cell_type": "code",
   "execution_count": 12,
   "metadata": {},
   "outputs": [
    {
     "data": {
      "text/html": [
       "<div>\n",
       "<style scoped>\n",
       "    .dataframe tbody tr th:only-of-type {\n",
       "        vertical-align: middle;\n",
       "    }\n",
       "\n",
       "    .dataframe tbody tr th {\n",
       "        vertical-align: top;\n",
       "    }\n",
       "\n",
       "    .dataframe thead th {\n",
       "        text-align: right;\n",
       "    }\n",
       "</style>\n",
       "<table border=\"1\" class=\"dataframe\">\n",
       "  <thead>\n",
       "    <tr style=\"text-align: right;\">\n",
       "      <th></th>\n",
       "      <th>ts</th>\n",
       "      <th>user_id</th>\n",
       "      <th>country_id</th>\n",
       "      <th>site_id</th>\n",
       "    </tr>\n",
       "  </thead>\n",
       "  <tbody>\n",
       "    <tr>\n",
       "      <th>0</th>\n",
       "      <td>2019-02-01 00:01:24</td>\n",
       "      <td>LC36FC</td>\n",
       "      <td>TL6</td>\n",
       "      <td>N0OTG</td>\n",
       "    </tr>\n",
       "    <tr>\n",
       "      <th>1</th>\n",
       "      <td>2019-02-01 00:10:19</td>\n",
       "      <td>LC39B6</td>\n",
       "      <td>TL6</td>\n",
       "      <td>N0OTG</td>\n",
       "    </tr>\n",
       "    <tr>\n",
       "      <th>2</th>\n",
       "      <td>2019-02-01 00:21:50</td>\n",
       "      <td>LC3500</td>\n",
       "      <td>TL6</td>\n",
       "      <td>N0OTG</td>\n",
       "    </tr>\n",
       "    <tr>\n",
       "      <th>3</th>\n",
       "      <td>2019-02-01 00:22:50</td>\n",
       "      <td>LC374F</td>\n",
       "      <td>TL6</td>\n",
       "      <td>N0OTG</td>\n",
       "    </tr>\n",
       "    <tr>\n",
       "      <th>4</th>\n",
       "      <td>2019-02-01 00:23:44</td>\n",
       "      <td>LCC1C3</td>\n",
       "      <td>TL6</td>\n",
       "      <td>QGO3G</td>\n",
       "    </tr>\n",
       "  </tbody>\n",
       "</table>\n",
       "</div>"
      ],
      "text/plain": [
       "                    ts user_id country_id site_id\n",
       "0  2019-02-01 00:01:24  LC36FC        TL6   N0OTG\n",
       "1  2019-02-01 00:10:19  LC39B6        TL6   N0OTG\n",
       "2  2019-02-01 00:21:50  LC3500        TL6   N0OTG\n",
       "3  2019-02-01 00:22:50  LC374F        TL6   N0OTG\n",
       "4  2019-02-01 00:23:44  LCC1C3        TL6   QGO3G"
      ]
     },
     "execution_count": 12,
     "metadata": {},
     "output_type": "execute_result"
    }
   ],
   "source": [
    "df=pd.read_csv('data/Q1_Analytics.csv')\n",
    "df.head()"
   ]
  },
  {
   "cell_type": "code",
   "execution_count": 13,
   "metadata": {},
   "outputs": [
    {
     "name": "stdout",
     "output_type": "stream",
     "text": [
      "ts            object\n",
      "user_id       object\n",
      "country_id    object\n",
      "site_id       object\n",
      "dtype: object\n",
      "(3553, 4)\n"
     ]
    }
   ],
   "source": [
    "print(df.dtypes)\n",
    "print(df.shape)"
   ]
  },
  {
   "cell_type": "markdown",
   "metadata": {},
   "source": [
    "Clean the columns"
   ]
  },
  {
   "cell_type": "code",
   "execution_count": 14,
   "metadata": {},
   "outputs": [],
   "source": [
    "df['ts'] = pd.to_datetime(df.ts)"
   ]
  },
  {
   "cell_type": "code",
   "execution_count": 15,
   "metadata": {},
   "outputs": [],
   "source": [
    "df_bdv=df[df.country_id == 'BDV']"
   ]
  },
  {
   "cell_type": "code",
   "execution_count": 16,
   "metadata": {},
   "outputs": [
    {
     "name": "stdout",
     "output_type": "stream",
     "text": [
      "site_id\n",
      "5NPAU    544\n",
      "Name: user_id, dtype: int64\n"
     ]
    }
   ],
   "source": [
    "print(df_bdv.groupby('site_id').user_id.nunique().sort_values(ascending=False).head(1))"
   ]
  },
  {
   "cell_type": "markdown",
   "metadata": {},
   "source": [
    "\n",
    "# Q1 b\n",
    "Between 2019-02-03 00:00:00 and 2019-02-04 23:59:59, there are four users who visited a certain site more than 10 times. Find these four users & which sites they (each) visited more than 10 times. (Simply provides four triples in the form (user_id, site_id, number of visits) in the box below.)"
   ]
  },
  {
   "cell_type": "code",
   "execution_count": 17,
   "metadata": {},
   "outputs": [],
   "source": [
    "import datetime as dt"
   ]
  },
  {
   "cell_type": "code",
   "execution_count": 31,
   "metadata": {},
   "outputs": [],
   "source": [
    "left_bound = dt.datetime(2019,2,3)\n",
    "right_bound = dt.datetime(2019,2,5)\n",
    "df_window = df[(df['ts'] >= left_bound) & (df['ts'] < right_bound)]"
   ]
  },
  {
   "cell_type": "markdown",
   "metadata": {},
   "source": [
    "Find the users that visited any number of sites over 10 times."
   ]
  },
  {
   "cell_type": "code",
   "execution_count": 41,
   "metadata": {},
   "outputs": [
    {
     "data": {
      "text/plain": [
       "user_id\n",
       "LC3A59    26\n",
       "LC06C3    26\n",
       "LC3C9D    18\n",
       "LC3C7E    15\n",
       "Name: site_id, dtype: int64"
      ]
     },
     "execution_count": 41,
     "metadata": {},
     "output_type": "execute_result"
    }
   ],
   "source": [
    "df_user_pings = df_window.groupby('user_id').site_id.count().sort_values(ascending=False)\n",
    "freq_users = df_user_pings[df_user_pings >= 10]\n",
    "freq_users"
   ]
  },
  {
   "cell_type": "code",
   "execution_count": 54,
   "metadata": {},
   "outputs": [],
   "source": [
    "df_freq_users = df_window[df_window.user_id.isin(freq_users.index.values)]"
   ]
  },
  {
   "cell_type": "markdown",
   "metadata": {},
   "source": [
    "Use one hot encoding to find the counts of sites they visited, then group by user_id and sum the one-hot variables to get the total counts of visits to each site by each user."
   ]
  },
  {
   "cell_type": "code",
   "execution_count": 57,
   "metadata": {},
   "outputs": [
    {
     "data": {
      "text/html": [
       "<div>\n",
       "<style scoped>\n",
       "    .dataframe tbody tr th:only-of-type {\n",
       "        vertical-align: middle;\n",
       "    }\n",
       "\n",
       "    .dataframe tbody tr th {\n",
       "        vertical-align: top;\n",
       "    }\n",
       "\n",
       "    .dataframe thead th {\n",
       "        text-align: right;\n",
       "    }\n",
       "</style>\n",
       "<table border=\"1\" class=\"dataframe\">\n",
       "  <thead>\n",
       "    <tr style=\"text-align: right;\">\n",
       "      <th></th>\n",
       "      <th>3POLC</th>\n",
       "      <th>GVOFK</th>\n",
       "      <th>N0OTG</th>\n",
       "    </tr>\n",
       "    <tr>\n",
       "      <th>user_id</th>\n",
       "      <th></th>\n",
       "      <th></th>\n",
       "      <th></th>\n",
       "    </tr>\n",
       "  </thead>\n",
       "  <tbody>\n",
       "    <tr>\n",
       "      <th>LC06C3</th>\n",
       "      <td>0</td>\n",
       "      <td>1</td>\n",
       "      <td>25</td>\n",
       "    </tr>\n",
       "    <tr>\n",
       "      <th>LC3A59</th>\n",
       "      <td>0</td>\n",
       "      <td>0</td>\n",
       "      <td>26</td>\n",
       "    </tr>\n",
       "    <tr>\n",
       "      <th>LC3C7E</th>\n",
       "      <td>15</td>\n",
       "      <td>0</td>\n",
       "      <td>0</td>\n",
       "    </tr>\n",
       "    <tr>\n",
       "      <th>LC3C9D</th>\n",
       "      <td>0</td>\n",
       "      <td>1</td>\n",
       "      <td>17</td>\n",
       "    </tr>\n",
       "  </tbody>\n",
       "</table>\n",
       "</div>"
      ],
      "text/plain": [
       "         3POLC  GVOFK  N0OTG\n",
       "user_id                     \n",
       "LC06C3       0      1     25\n",
       "LC3A59       0      0     26\n",
       "LC3C7E      15      0      0\n",
       "LC3C9D       0      1     17"
      ]
     },
     "execution_count": 57,
     "metadata": {},
     "output_type": "execute_result"
    }
   ],
   "source": [
    "user_visit_table = pd.concat([df_freq_users,(pd.get_dummies(df_freq_users['site_id']))],axis = 1).groupby('user_id').sum()\n",
    "user_visit_table"
   ]
  },
  {
   "cell_type": "code",
   "execution_count": 74,
   "metadata": {},
   "outputs": [
    {
     "name": "stdout",
     "output_type": "stream",
     "text": [
      "LC06C3 N0OTG 25\n",
      "LC3A59 N0OTG 26\n",
      "LC3C7E 3POLC 15\n",
      "LC3C9D N0OTG 17\n"
     ]
    }
   ],
   "source": [
    "user_list=[]\n",
    "most_visited_site=[]\n",
    "times_visited=[]\n",
    "for index,user in enumerate(user_visit_table.index.values):\n",
    "    user_list.append(user)\n",
    "    most_visited_site.append(user_visit_table.idxmax(axis=1)[index])\n",
    "    times_visited.append(user_visit_table.max(axis=1)[user])\n",
    "    print(user,user_visit_table.idxmax(axis=1)[index],user_visit_table.max(axis=1)[user])"
   ]
  },
  {
   "cell_type": "code",
   "execution_count": 93,
   "metadata": {},
   "outputs": [
    {
     "data": {
      "text/html": [
       "<div>\n",
       "<style scoped>\n",
       "    .dataframe tbody tr th:only-of-type {\n",
       "        vertical-align: middle;\n",
       "    }\n",
       "\n",
       "    .dataframe tbody tr th {\n",
       "        vertical-align: top;\n",
       "    }\n",
       "\n",
       "    .dataframe thead th {\n",
       "        text-align: right;\n",
       "    }\n",
       "</style>\n",
       "<table border=\"1\" class=\"dataframe\">\n",
       "  <thead>\n",
       "    <tr style=\"text-align: right;\">\n",
       "      <th></th>\n",
       "      <th>users</th>\n",
       "      <th>most_visited_site</th>\n",
       "      <th>times_visited</th>\n",
       "    </tr>\n",
       "  </thead>\n",
       "  <tbody>\n",
       "    <tr>\n",
       "      <th>0</th>\n",
       "      <td>LC06C3</td>\n",
       "      <td>N0OTG</td>\n",
       "      <td>25</td>\n",
       "    </tr>\n",
       "    <tr>\n",
       "      <th>1</th>\n",
       "      <td>LC3A59</td>\n",
       "      <td>N0OTG</td>\n",
       "      <td>26</td>\n",
       "    </tr>\n",
       "    <tr>\n",
       "      <th>2</th>\n",
       "      <td>LC3C7E</td>\n",
       "      <td>3POLC</td>\n",
       "      <td>15</td>\n",
       "    </tr>\n",
       "    <tr>\n",
       "      <th>3</th>\n",
       "      <td>LC3C9D</td>\n",
       "      <td>N0OTG</td>\n",
       "      <td>17</td>\n",
       "    </tr>\n",
       "  </tbody>\n",
       "</table>\n",
       "</div>"
      ],
      "text/plain": [
       "    users most_visited_site  times_visited\n",
       "0  LC06C3             N0OTG             25\n",
       "1  LC3A59             N0OTG             26\n",
       "2  LC3C7E             3POLC             15\n",
       "3  LC3C9D             N0OTG             17"
      ]
     },
     "execution_count": 93,
     "metadata": {},
     "output_type": "execute_result"
    }
   ],
   "source": [
    "df_answer = pd.DataFrame(dict({'users': user_list,'most_visited_site':most_visited_site,'times_visited':times_visited}))\n",
    "df_answer"
   ]
  },
  {
   "cell_type": "markdown",
   "metadata": {},
   "source": [
    "# Q1 C\n",
    "For each site, compute the unique number of users whose last visit (found in the original data set) was to that site. For instance, user \"LC3561\"'s last visit is to \"N0OTG\" based on timestamp data. Based on this measure, what are top three sites? (hint: site \"3POLC\" is ranked at 5th with 28 users whose last visit in the data set was to 3POLC; simply provide three pairs in the form (site_id, number of users).)"
   ]
  },
  {
   "cell_type": "code",
   "execution_count": 110,
   "metadata": {},
   "outputs": [
    {
     "data": {
      "text/plain": [
       "site_id\n",
       "5NPAU    992\n",
       "N0OTG    561\n",
       "QGO3G    289\n",
       "GVOFK     42\n",
       "3POLC     28\n",
       "RT9Z6      2\n",
       "JSUUP      1\n",
       "EUZ/Q      1\n",
       "Name: user_id, dtype: int64"
      ]
     },
     "execution_count": 110,
     "metadata": {},
     "output_type": "execute_result"
    }
   ],
   "source": [
    "df.groupby('user_id').last().reset_index().groupby('site_id')['user_id'].nunique().sort_values(ascending = False)"
   ]
  },
  {
   "cell_type": "markdown",
   "metadata": {},
   "source": [
    "# Q2\n",
    "You will find Q2 regression data from the link above. \n",
    "\n",
    "The data contains 300 rows and 3 columns (from the left, A, B, and C). Please build a good regression model which explains column C by a function of  A and B. \n",
    "\n",
    "Note: Please do not use any ML libraries or packages. You can simply attach plot of data points and your regression model that fits the data points and of course, code point (preferably Github)."
   ]
  },
  {
   "cell_type": "code",
   "execution_count": 123,
   "metadata": {},
   "outputs": [],
   "source": [
    "df = pd.read_csv('data/Q2_Regression.csv', header = None)\n",
    "df.columns=['A','B','C']"
   ]
  },
  {
   "cell_type": "code",
   "execution_count": 158,
   "metadata": {},
   "outputs": [
    {
     "data": {
      "text/html": [
       "<div>\n",
       "<style scoped>\n",
       "    .dataframe tbody tr th:only-of-type {\n",
       "        vertical-align: middle;\n",
       "    }\n",
       "\n",
       "    .dataframe tbody tr th {\n",
       "        vertical-align: top;\n",
       "    }\n",
       "\n",
       "    .dataframe thead th {\n",
       "        text-align: right;\n",
       "    }\n",
       "</style>\n",
       "<table border=\"1\" class=\"dataframe\">\n",
       "  <thead>\n",
       "    <tr style=\"text-align: right;\">\n",
       "      <th></th>\n",
       "      <th>A</th>\n",
       "      <th>B</th>\n",
       "      <th>C</th>\n",
       "    </tr>\n",
       "  </thead>\n",
       "  <tbody>\n",
       "    <tr>\n",
       "      <th>0</th>\n",
       "      <td>0.490</td>\n",
       "      <td>-0.18</td>\n",
       "      <td>11.50</td>\n",
       "    </tr>\n",
       "    <tr>\n",
       "      <th>1</th>\n",
       "      <td>-1.410</td>\n",
       "      <td>-1.23</td>\n",
       "      <td>11.80</td>\n",
       "    </tr>\n",
       "    <tr>\n",
       "      <th>2</th>\n",
       "      <td>0.943</td>\n",
       "      <td>4.51</td>\n",
       "      <td>-3.24</td>\n",
       "    </tr>\n",
       "    <tr>\n",
       "      <th>3</th>\n",
       "      <td>3.570</td>\n",
       "      <td>5.07</td>\n",
       "      <td>-23.90</td>\n",
       "    </tr>\n",
       "    <tr>\n",
       "      <th>4</th>\n",
       "      <td>-1.700</td>\n",
       "      <td>6.91</td>\n",
       "      <td>-22.10</td>\n",
       "    </tr>\n",
       "  </tbody>\n",
       "</table>\n",
       "</div>"
      ],
      "text/plain": [
       "       A     B      C\n",
       "0  0.490 -0.18  11.50\n",
       "1 -1.410 -1.23  11.80\n",
       "2  0.943  4.51  -3.24\n",
       "3  3.570  5.07 -23.90\n",
       "4 -1.700  6.91 -22.10"
      ]
     },
     "execution_count": 158,
     "metadata": {},
     "output_type": "execute_result"
    }
   ],
   "source": [
    "df.head()"
   ]
  },
  {
   "cell_type": "markdown",
   "metadata": {},
   "source": [
    "## Preliminary Notes\n",
    "If we do a pairplot to compare the distributions of all the variables, it looks like there are outliers. First thing we need to do is drop the outlier before we continue."
   ]
  },
  {
   "cell_type": "code",
   "execution_count": 126,
   "metadata": {},
   "outputs": [
    {
     "data": {
      "text/plain": [
       "<seaborn.axisgrid.PairGrid at 0x1a1d774f28>"
      ]
     },
     "execution_count": 126,
     "metadata": {},
     "output_type": "execute_result"
    },
    {
     "data": {
      "image/png": "[encoded data removed]",
      "text/plain": [
       "<Figure size 540x540 with 12 Axes>"
      ]
     },
     "metadata": {},
     "output_type": "display_data"
    }
   ],
   "source": [
    "sns.set()\n",
    "sns.pairplot(df)"
   ]
  },
  {
   "cell_type": "code",
   "execution_count": 160,
   "metadata": {},
   "outputs": [],
   "source": [
    "def remove_outliers(df,column_name,number_of_std=3):\n",
    "    '''Drop outliers from the dataframe, defaulting the definition of an outlier as\n",
    "    3 standard deviations above or below the mean\n",
    "    \n",
    "    Inputs:\n",
    "    df = pandas.DataFrame()\n",
    "    column_name = string\n",
    "    number_of_std = int, number of standard deviations away from mean to consider as an outlier \n",
    "\n",
    "    Output:\n",
    "    DataFrame\n",
    "    '''\n",
    "    upper_range=df[column_name].mean() + number_of_std*df[column_name].std()\n",
    "    lower_range=df[column_name].mean() - number_of_std*df[column_name].std()\n",
    "    return df[(df[column_name] > lower_range) & (df[column_name] < upper_range)]\n"
   ]
  },
  {
   "cell_type": "code",
   "execution_count": 167,
   "metadata": {
    "scrolled": true
   },
   "outputs": [
    {
     "name": "stdout",
     "output_type": "stream",
     "text": [
      "1 row removed as an outlier\n"
     ]
    }
   ],
   "source": [
    "print(f\"{df.shape[0]-remove_outliers(df,'C').shape[0]} row removed as an outlier\")"
   ]
  },
  {
   "cell_type": "code",
   "execution_count": 157,
   "metadata": {},
   "outputs": [
    {
     "data": {
      "text/plain": [
       "<seaborn.axisgrid.PairGrid at 0x1a23570ef0>"
      ]
     },
     "execution_count": 157,
     "metadata": {},
     "output_type": "execute_result"
    },
    {
     "data": {
      "image/png": "[encoded data removed]",
      "text/plain": [
       "<Figure size 540x540 with 12 Axes>"
      ]
     },
     "metadata": {},
     "output_type": "display_data"
    }
   ],
   "source": [
    "sns.pairplot(remove_outliers(df,'C'))"
   ]
  },
  {
   "cell_type": "markdown",
   "metadata": {},
   "source": [
    "Now that we removed outliers, let's look at pairplot again to make sure conditions for linear regression are met.\n",
    "1. Weak exogeneity. \n",
    "- Linearity. \n",
    "- Constant variance (a.k.a. homoscedasticity).\n",
    "- Independence of errors.\n",
    "- Lack of perfect multicollinearity in the predictors. "
   ]
  },
  {
   "cell_type": "markdown",
   "metadata": {},
   "source": [
    "1. We assume that A and B are the primary influencing factors over C.\n",
    "- It looks like there may possibly be a linear relationship as visible in the graph of C vs. A and C vs. B.\n",
    "- It looks like there may not be constant variance as visible in the plots between C,A and C,B. Regardless, we will try modeling\n",
    "- Once we plot the regression, we can see if errors look independent\n",
    "- The plot of B vs. A and A vs. B looks randomly distributed around 0, so this condition may be met"
   ]
  },
  {
   "cell_type": "code",
   "execution_count": 170,
   "metadata": {},
   "outputs": [],
   "source": [
    "df=remove_outliers(df,'C')"
   ]
  },
  {
   "cell_type": "code",
   "execution_count": 177,
   "metadata": {},
   "outputs": [],
   "source": [
    "X=df.iloc[:,0:2]\n",
    "Y=df.iloc[:,2]"
   ]
  },
  {
   "cell_type": "code",
   "execution_count": null,
   "metadata": {},
   "outputs": [],
   "source": []
  },
  {
   "cell_type": "markdown",
   "metadata": {},
   "source": [
    "Linear regression works in the following way. Starting from a random point, we use **gradient descent** to find the minimal cost function"
   ]
  },
  {
   "cell_type": "code",
   "execution_count": 180,
   "metadata": {},
   "outputs": [],
   "source": [
    "def cost_function(X, Y, B):\n",
    "    m = len(Y)\n",
    "    J = np.sum((X.dot(B) - Y) ** 2)/(2 * m)\n",
    "    return J"
   ]
  },
  {
   "cell_type": "code",
   "execution_count": 231,
   "metadata": {},
   "outputs": [],
   "source": [
    "def gradient_descent(X, Y, B, alpha, iterations,es = True):\n",
    "    cost_history = [0] * iterations\n",
    "    m = len(Y)\n",
    "    last_iteration = 0\n",
    "    for iteration in range(iterations):\n",
    "        # Hypothesis Values\n",
    "        h = X.dot(B)\n",
    "        # Difference b/w Hypothesis and Actual Y\n",
    "        loss = h - Y\n",
    "        # Gradient Calculation\n",
    "        gradient = X.T.dot(loss) / m\n",
    "        # Changing Values of B using Gradient\n",
    "        B = B - alpha * gradient\n",
    "        # New Cost Value\n",
    "        cost = cost_function(X, Y, B)\n",
    "        cost_history[iteration] = cost\n",
    "        if es and (np.abs(cost_history[iteration] - cost_history[iteration-1]) < .001):\n",
    "            last_iteration = iteration\n",
    "            break\n",
    "    return B, cost_history, last_iteration"
   ]
  },
  {
   "cell_type": "code",
   "execution_count": null,
   "metadata": {},
   "outputs": [],
   "source": []
  },
  {
   "cell_type": "code",
   "execution_count": 232,
   "metadata": {},
   "outputs": [],
   "source": [
    "# m = len(math)\n",
    "# x0 = np.ones(m)\n",
    "# X = np.array([x0, math, read]).T\n",
    "# Initial Coefficients\n",
    "B = np.array([0, 0])\n",
    "# Y = np.array(write)\n",
    "alpha = 0.0001"
   ]
  },
  {
   "cell_type": "code",
   "execution_count": 233,
   "metadata": {},
   "outputs": [
    {
     "name": "stdout",
     "output_type": "stream",
     "text": [
      "2569.004848006957\n"
     ]
    }
   ],
   "source": [
    "inital_cost = cost_function(X, Y, B)\n",
    "print(inital_cost)"
   ]
  },
  {
   "cell_type": "code",
   "execution_count": 234,
   "metadata": {},
   "outputs": [
    {
     "name": "stdout",
     "output_type": "stream",
     "text": [
      "A     0.040858\n",
      "B   -11.138796\n",
      "dtype: float64\n"
     ]
    }
   ],
   "source": [
    "# 100000 Iterations\n",
    "newB, cost_history,iteration_reached = gradient_descent(X, Y, B, alpha, 100000)\n",
    "\n",
    "# New Values of B\n",
    "print(newB)"
   ]
  },
  {
   "cell_type": "code",
   "execution_count": 235,
   "metadata": {},
   "outputs": [
    {
     "name": "stdout",
     "output_type": "stream",
     "text": [
      "1744.3348576614464\n",
      "2963\n"
     ]
    }
   ],
   "source": [
    "# Final Cost of new B\n",
    "print(cost_history[last_iteration])\n",
    "print(iteration_reached)"
   ]
  },
  {
   "cell_type": "code",
   "execution_count": 259,
   "metadata": {},
   "outputs": [
    {
     "name": "stdout",
     "output_type": "stream",
     "text": [
      "RMSE: 29.081544507985374 %\n",
      "R^2: 0.3193135112437111\n"
     ]
    }
   ],
   "source": [
    "# Model Evaluation - RMSE\n",
    "def rmse(Y, Y_pred):\n",
    "    rmse = np.sqrt(sum((Y - Y_pred) ** 2) / len(Y))\n",
    "    return rmse\n",
    "\n",
    "# Model Evaluation - R2 Score\n",
    "def r2_score(Y, Y_pred):\n",
    "    mean_y = np.mean(Y)\n",
    "    ss_tot = sum((Y - mean_y) ** 2)\n",
    "    ss_res = sum((Y - Y_pred) ** 2)\n",
    "    r2 = 1 - (ss_res / ss_tot)\n",
    "    return r2\n",
    "\n",
    "Y_pred = X.dot(newB)\n",
    "\n",
    "print('RMSE:',rmse(Y, Y_pred)/max(Y)*100,'%')\n",
    "print('R^2:',r2_score(Y, Y_pred))"
   ]
  },
  {
   "cell_type": "code",
   "execution_count": null,
   "metadata": {},
   "outputs": [],
   "source": []
  },
  {
   "cell_type": "code",
   "execution_count": 237,
   "metadata": {},
   "outputs": [
    {
     "name": "stdout",
     "output_type": "stream",
     "text": [
      "55.42728751329778\n",
      "0.3940222102143231\n"
     ]
    }
   ],
   "source": [
    "from sklearn.linear_model import LinearRegression\n",
    "from sklearn.metrics import mean_squared_error\n",
    "\n",
    "reg = LinearRegression()\n",
    "# Data Fitting\n",
    "reg = reg.fit(X, Y)\n",
    "# Y Prediction\n",
    "Y_pred = reg.predict(X)\n",
    "\n",
    "# Model Evaluation\n",
    "rmse = np.sqrt(mean_squared_error(Y, Y_pred))\n",
    "r2 = reg.score(X, Y)\n",
    "\n",
    "print(rmse)\n",
    "print(r2)"
   ]
  },
  {
   "cell_type": "code",
   "execution_count": 253,
   "metadata": {},
   "outputs": [
    {
     "data": {
      "text/plain": [
       "array([ 4.90e-01, -1.41e+00,  9.43e-01,  3.57e+00, -1.70e+00, -1.70e+00,\n",
       "        3.74e+00,  1.30e+00, -2.41e+00,  6.28e-01, -2.39e+00, -2.40e+00,\n",
       "       -2.74e-01, -6.74e+00, -6.17e+00, -2.69e+00, -4.04e+00, -5.73e-02,\n",
       "       -3.72e+00, -5.24e+00,  3.40e+00, -1.68e+00, -7.97e-01, -5.27e+00,\n",
       "       -2.63e+00, -6.67e-01, -4.45e+00,  1.27e-01, -2.80e+00, -1.88e+00,\n",
       "       -2.81e+00,  4.56e+00, -1.04e+00, -4.17e+00,  1.47e+00, -4.66e+00,\n",
       "       -3.73e-01, -6.88e+00, -4.98e+00, -4.09e-01,  1.22e+00, -4.86e-01,\n",
       "       -1.35e+00, -1.90e+00, -5.44e+00, -3.16e+00, -2.38e+00,  2.17e+00,\n",
       "        3.09e-02, -6.29e+00, -2.77e-02, -2.16e+00, -3.03e+00,  8.35e-01,\n",
       "        2.09e+00,  1.79e+00, -3.52e+00, -1.93e+00, -6.21e-03,  1.93e+00,\n",
       "       -2.44e+00, -1.56e+00, -4.32e+00, -4.59e+00,  1.44e+00,  3.07e+00,\n",
       "       -1.22e+00,  2.01e+00,  8.49e-02, -2.94e+00,  8.42e-02,  3.61e+00,\n",
       "       -1.11e+00,  3.69e+00, -8.86e+00,  1.47e+00, -7.39e-01, -1.90e+00,\n",
       "       -7.25e-01, -6.96e+00, -1.66e+00,  7.13e-02,  3.43e+00, -2.55e+00,\n",
       "       -3.43e+00, -2.51e+00,  1.75e+00, -1.37e-02, -2.59e+00,  5.40e-01,\n",
       "       -7.09e-01,  1.91e+00, -3.11e+00, -1.98e+00, -2.18e+00, -5.39e+00,\n",
       "       -1.12e-01, -2.17e-01, -9.85e-01, -1.70e+00, -5.25e+00, -2.26e+00,\n",
       "       -2.03e+00, -3.41e+00, -1.48e+00,  2.12e-01,  4.66e+00, -4.76e-01,\n",
       "       -2.27e-01, -1.22e+00, -6.76e+00, -1.08e+00, -8.19e-01,  6.39e+00,\n",
       "       -1.58e+00, -9.54e-02, -1.10e+00, -4.51e+00,  2.43e+00,  1.26e+00,\n",
       "        1.37e+00, -3.73e+00,  3.21e+00, -5.21e+00,  7.61e-01,  5.57e+00,\n",
       "       -3.97e+00, -2.70e+00, -7.01e-01, -2.51e+00, -5.65e+00, -7.94e-01,\n",
       "       -4.19e+00,  4.21e-01, -3.76e+00,  3.65e+00, -3.35e+00, -1.97e+00,\n",
       "        1.44e+00, -4.69e+00, -3.18e-01,  2.92e+00, -5.82e+00, -4.46e-01,\n",
       "       -2.20e-01,  1.35e+00, -4.71e+00, -4.96e+00,  5.66e-01, -1.09e-01,\n",
       "       -2.49e-01,  3.93e-02, -3.04e+00, -3.03e-01, -1.21e-01, -3.14e+00,\n",
       "        4.60e+00,  4.21e-01, -4.57e+00,  9.70e-01, -3.92e+00,  1.36e+00,\n",
       "        2.48e+00, -3.46e+00,  1.89e+00,  2.38e-01,  1.47e+00,  4.69e+00,\n",
       "       -1.74e+00, -3.26e+00, -3.67e+00, -3.45e+00, -1.23e+00,  2.35e-02,\n",
       "       -1.70e-01,  1.48e+00, -9.61e-01,  3.36e+00, -1.79e+00,  7.16e+00,\n",
       "        8.77e-01, -3.57e+00, -4.21e+00,  4.47e-01, -1.67e+00,  1.14e+00,\n",
       "        4.20e-01, -1.22e+00, -3.54e+00, -5.54e+00, -2.34e+00,  1.57e+00,\n",
       "       -3.58e-01, -4.74e+00, -4.80e-01,  1.56e-01, -3.65e+00, -5.39e-01,\n",
       "       -8.25e-01, -4.43e+00,  1.07e+01,  1.22e+01,  1.22e+01,  4.87e+00,\n",
       "        6.19e+00,  1.05e+01,  1.05e+01,  1.05e+01,  2.06e+01,  1.07e+01,\n",
       "        1.24e+01,  1.19e+01,  1.10e+01,  8.05e+00,  1.13e+01,  6.68e+00,\n",
       "        8.29e+00,  7.54e+00,  9.25e+00,  1.59e+01,  3.40e+00,  1.11e+01,\n",
       "        4.16e+00,  7.58e+00,  1.23e+01,  9.19e+00,  5.77e+00,  6.85e+00,\n",
       "        1.10e+01,  6.81e+00,  9.65e+00,  9.14e+00,  7.05e+00,  1.54e+01,\n",
       "        1.09e+01,  2.92e+00,  9.56e+00,  7.01e+00,  1.16e+01,  6.62e+00,\n",
       "        8.66e+00,  1.05e+01,  1.16e+01,  5.40e+00,  8.00e+00,  7.58e+00,\n",
       "        7.04e+00,  1.43e+01,  1.02e+01,  5.22e+00,  1.18e+01,  1.54e+01,\n",
       "        1.21e+01,  4.44e+00,  7.55e+00,  1.28e+01,  6.88e+00,  1.03e+01,\n",
       "        1.13e+01,  6.22e+00,  8.82e+00, -7.24e-01,  5.93e+00,  8.24e+00,\n",
       "        5.26e+00,  1.39e+01,  4.71e+00,  7.68e+00,  9.39e+00,  1.33e+01,\n",
       "        4.69e+00,  1.25e+01,  9.03e+00,  6.06e+00,  1.04e+01,  9.60e+00,\n",
       "        7.20e+00,  9.21e+00,  7.84e+00,  9.34e+00,  1.10e+01,  1.38e+01,\n",
       "        5.29e+00,  1.54e+01,  3.14e+00,  8.54e+00,  1.08e+01,  9.84e+00,\n",
       "        7.13e+00,  8.38e+00,  7.52e+00,  7.23e+00,  1.15e+01,  1.01e+01,\n",
       "        6.92e+00,  1.17e+01,  9.92e+00,  1.14e+01,  1.09e+01])"
      ]
     },
     "execution_count": 253,
     "metadata": {},
     "output_type": "execute_result"
    }
   ],
   "source": []
  },
  {
   "cell_type": "code",
   "execution_count": 266,
   "metadata": {},
   "outputs": [
    {
     "data": {
      "application/javascript": [
       "/* Put everything inside the global mpl namespace */\n",
       "window.mpl = {};\n",
       "\n",
       "\n",
       "mpl.get_websocket_type = function() {\n",
       "    if (typeof(WebSocket) !== 'undefined') {\n",
       "        return WebSocket;\n",
       "    } else if (typeof(MozWebSocket) !== 'undefined') {\n",
       "        return MozWebSocket;\n",
       "    } else {\n",
       "        alert('Your browser does not have WebSocket support.' +\n",
       "              'Please try Chrome, Safari or Firefox ≥ 6. ' +\n",
       "              'Firefox 4 and 5 are also supported but you ' +\n",
       "              'have to enable WebSockets in about:config.');\n",
       "    };\n",
       "}\n",
       "\n",
       "mpl.figure = function(figure_id, websocket, ondownload, parent_element) {\n",
       "    this.id = figure_id;\n",
       "\n",
       "    this.ws = websocket;\n",
       "\n",
       "    this.supports_binary = (this.ws.binaryType != undefined);\n",
       "\n",
       "    if (!this.supports_binary) {\n",
       "        var warnings = document.getElementById(\"mpl-warnings\");\n",
       "        if (warnings) {\n",
       "            warnings.style.display = 'block';\n",
       "            warnings.textContent = (\n",
       "                \"This browser does not support binary websocket messages. \" +\n",
       "                    \"Performance may be slow.\");\n",
       "        }\n",
       "    }\n",
       "\n",
       "    this.imageObj = new Image();\n",
       "\n",
       "    this.context = undefined;\n",
       "    this.message = undefined;\n",
       "    this.canvas = undefined;\n",
       "    this.rubberband_canvas = undefined;\n",
       "    this.rubberband_context = undefined;\n",
       "    this.format_dropdown = undefined;\n",
       "\n",
       "    this.image_mode = 'full';\n",
       "\n",
       "    this.root = $('<div/>');\n",
       "    this._root_extra_style(this.root)\n",
       "    this.root.attr('style', 'display: inline-block');\n",
       "\n",
       "    $(parent_element).append(this.root);\n",
       "\n",
       "    this._init_header(this);\n",
       "    this._init_canvas(this);\n",
       "    this._init_toolbar(this);\n",
       "\n",
       "    var fig = this;\n",
       "\n",
       "    this.waiting = false;\n",
       "\n",
       "    this.ws.onopen =  function () {\n",
       "            fig.send_message(\"supports_binary\", {value: fig.supports_binary});\n",
       "            fig.send_message(\"send_image_mode\", {});\n",
       "            if (mpl.ratio != 1) {\n",
       "                fig.send_message(\"set_dpi_ratio\", {'dpi_ratio': mpl.ratio});\n",
       "            }\n",
       "            fig.send_message(\"refresh\", {});\n",
       "        }\n",
       "\n",
       "    this.imageObj.onload = function() {\n",
       "            if (fig.image_mode == 'full') {\n",
       "                // Full images could contain transparency (where diff images\n",
       "                // almost always do), so we need to clear the canvas so that\n",
       "                // there is no ghosting.\n",
       "                fig.context.clearRect(0, 0, fig.canvas.width, fig.canvas.height);\n",
       "            }\n",
       "            fig.context.drawImage(fig.imageObj, 0, 0);\n",
       "        };\n",
       "\n",
       "    this.imageObj.onunload = function() {\n",
       "        fig.ws.close();\n",
       "    }\n",
       "\n",
       "    this.ws.onmessage = this._make_on_message_function(this);\n",
       "\n",
       "    this.ondownload = ondownload;\n",
       "}\n",
       "\n",
       "mpl.figure.prototype._init_header = function() {\n",
       "    var titlebar = $(\n",
       "        '<div class=\"ui-dialog-titlebar ui-widget-header ui-corner-all ' +\n",
       "        'ui-helper-clearfix\"/>');\n",
       "    var titletext = $(\n",
       "        '<div class=\"ui-dialog-title\" style=\"width: 100%; ' +\n",
       "        'text-align: center; padding: 3px;\"/>');\n",
       "    titlebar.append(titletext)\n",
       "    this.root.append(titlebar);\n",
       "    this.header = titletext[0];\n",
       "}\n",
       "\n",
       "\n",
       "\n",
       "mpl.figure.prototype._canvas_extra_style = function(canvas_div) {\n",
       "\n",
       "}\n",
       "\n",
       "\n",
       "mpl.figure.prototype._root_extra_style = function(canvas_div) {\n",
       "\n",
       "}\n",
       "\n",
       "mpl.figure.prototype._init_canvas = function() {\n",
       "    var fig = this;\n",
       "\n",
       "    var canvas_div = $('<div/>');\n",
       "\n",
       "    canvas_div.attr('style', 'position: relative; clear: both; outline: 0');\n",
       "\n",
       "    function canvas_keyboard_event(event) {\n",
       "        return fig.key_event(event, event['data']);\n",
       "    }\n",
       "\n",
       "    canvas_div.keydown('key_press', canvas_keyboard_event);\n",
       "    canvas_div.keyup('key_release', canvas_keyboard_event);\n",
       "    this.canvas_div = canvas_div\n",
       "    this._canvas_extra_style(canvas_div)\n",
       "    this.root.append(canvas_div);\n",
       "\n",
       "    var canvas = $('<canvas/>');\n",
       "    canvas.addClass('mpl-canvas');\n",
       "    canvas.attr('style', \"left: 0; top: 0; z-index: 0; outline: 0\")\n",
       "\n",
       "    this.canvas = canvas[0];\n",
       "    this.context = canvas[0].getContext(\"2d\");\n",
       "\n",
       "    var backingStore = this.context.backingStorePixelRatio ||\n",
       "\tthis.context.webkitBackingStorePixelRatio ||\n",
       "\tthis.context.mozBackingStorePixelRatio ||\n",
       "\tthis.context.msBackingStorePixelRatio ||\n",
       "\tthis.context.oBackingStorePixelRatio ||\n",
       "\tthis.context.backingStorePixelRatio || 1;\n",
       "\n",
       "    mpl.ratio = (window.devicePixelRatio || 1) / backingStore;\n",
       "\n",
       "    var rubberband = $('<canvas/>');\n",
       "    rubberband.attr('style', \"position: absolute; left: 0; top: 0; z-index: 1;\")\n",
       "\n",
       "    var pass_mouse_events = true;\n",
       "\n",
       "    canvas_div.resizable({\n",
       "        start: function(event, ui) {\n",
       "            pass_mouse_events = false;\n",
       "        },\n",
       "        resize: function(event, ui) {\n",
       "            fig.request_resize(ui.size.width, ui.size.height);\n",
       "        },\n",
       "        stop: function(event, ui) {\n",
       "            pass_mouse_events = true;\n",
       "            fig.request_resize(ui.size.width, ui.size.height);\n",
       "        },\n",
       "    });\n",
       "\n",
       "    function mouse_event_fn(event) {\n",
       "        if (pass_mouse_events)\n",
       "            return fig.mouse_event(event, event['data']);\n",
       "    }\n",
       "\n",
       "    rubberband.mousedown('button_press', mouse_event_fn);\n",
       "    rubberband.mouseup('button_release', mouse_event_fn);\n",
       "    // Throttle sequential mouse events to 1 every 20ms.\n",
       "    rubberband.mousemove('motion_notify', mouse_event_fn);\n",
       "\n",
       "    rubberband.mouseenter('figure_enter', mouse_event_fn);\n",
       "    rubberband.mouseleave('figure_leave', mouse_event_fn);\n",
       "\n",
       "    canvas_div.on(\"wheel\", function (event) {\n",
       "        event = event.originalEvent;\n",
       "        event['data'] = 'scroll'\n",
       "        if (event.deltaY < 0) {\n",
       "            event.step = 1;\n",
       "        } else {\n",
       "            event.step = -1;\n",
       "        }\n",
       "        mouse_event_fn(event);\n",
       "    });\n",
       "\n",
       "    canvas_div.append(canvas);\n",
       "    canvas_div.append(rubberband);\n",
       "\n",
       "    this.rubberband = rubberband;\n",
       "    this.rubberband_canvas = rubberband[0];\n",
       "    this.rubberband_context = rubberband[0].getContext(\"2d\");\n",
       "    this.rubberband_context.strokeStyle = \"#000000\";\n",
       "\n",
       "    this._resize_canvas = function(width, height) {\n",
       "        // Keep the size of the canvas, canvas container, and rubber band\n",
       "        // canvas in synch.\n",
       "        canvas_div.css('width', width)\n",
       "        canvas_div.css('height', height)\n",
       "\n",
       "        canvas.attr('width', width * mpl.ratio);\n",
       "        canvas.attr('height', height * mpl.ratio);\n",
       "        canvas.attr('style', 'width: ' + width + 'px; height: ' + height + 'px;');\n",
       "\n",
       "        rubberband.attr('width', width);\n",
       "        rubberband.attr('height', height);\n",
       "    }\n",
       "\n",
       "    // Set the figure to an initial 600x600px, this will subsequently be updated\n",
       "    // upon first draw.\n",
       "    this._resize_canvas(600, 600);\n",
       "\n",
       "    // Disable right mouse context menu.\n",
       "    $(this.rubberband_canvas).bind(\"contextmenu\",function(e){\n",
       "        return false;\n",
       "    });\n",
       "\n",
       "    function set_focus () {\n",
       "        canvas.focus();\n",
       "        canvas_div.focus();\n",
       "    }\n",
       "\n",
       "    window.setTimeout(set_focus, 100);\n",
       "}\n",
       "\n",
       "mpl.figure.prototype._init_toolbar = function() {\n",
       "    var fig = this;\n",
       "\n",
       "    var nav_element = $('<div/>')\n",
       "    nav_element.attr('style', 'width: 100%');\n",
       "    this.root.append(nav_element);\n",
       "\n",
       "    // Define a callback function for later on.\n",
       "    function toolbar_event(event) {\n",
       "        return fig.toolbar_button_onclick(event['data']);\n",
       "    }\n",
       "    function toolbar_mouse_event(event) {\n",
       "        return fig.toolbar_button_onmouseover(event['data']);\n",
       "    }\n",
       "\n",
       "    for(var toolbar_ind in mpl.toolbar_items) {\n",
       "        var name = mpl.toolbar_items[toolbar_ind][0];\n",
       "        var tooltip = mpl.toolbar_items[toolbar_ind][1];\n",
       "        var image = mpl.toolbar_items[toolbar_ind][2];\n",
       "        var method_name = mpl.toolbar_items[toolbar_ind][3];\n",
       "\n",
       "        if (!name) {\n",
       "            // put a spacer in here.\n",
       "            continue;\n",
       "        }\n",
       "        var button = $('<button/>');\n",
       "        button.addClass('ui-button ui-widget ui-state-default ui-corner-all ' +\n",
       "                        'ui-button-icon-only');\n",
       "        button.attr('role', 'button');\n",
       "        button.attr('aria-disabled', 'false');\n",
       "        button.click(method_name, toolbar_event);\n",
       "        button.mouseover(tooltip, toolbar_mouse_event);\n",
       "\n",
       "        var icon_img = $('<span/>');\n",
       "        icon_img.addClass('ui-button-icon-primary ui-icon');\n",
       "        icon_img.addClass(image);\n",
       "        icon_img.addClass('ui-corner-all');\n",
       "\n",
       "        var tooltip_span = $('<span/>');\n",
       "        tooltip_span.addClass('ui-button-text');\n",
       "        tooltip_span.html(tooltip);\n",
       "\n",
       "        button.append(icon_img);\n",
       "        button.append(tooltip_span);\n",
       "\n",
       "        nav_element.append(button);\n",
       "    }\n",
       "\n",
       "    var fmt_picker_span = $('<span/>');\n",
       "\n",
       "    var fmt_picker = $('<select/>');\n",
       "    fmt_picker.addClass('mpl-toolbar-option ui-widget ui-widget-content');\n",
       "    fmt_picker_span.append(fmt_picker);\n",
       "    nav_element.append(fmt_picker_span);\n",
       "    this.format_dropdown = fmt_picker[0];\n",
       "\n",
       "    for (var ind in mpl.extensions) {\n",
       "        var fmt = mpl.extensions[ind];\n",
       "        var option = $(\n",
       "            '<option/>', {selected: fmt === mpl.default_extension}).html(fmt);\n",
       "        fmt_picker.append(option)\n",
       "    }\n",
       "\n",
       "    // Add hover states to the ui-buttons\n",
       "    $( \".ui-button\" ).hover(\n",
       "        function() { $(this).addClass(\"ui-state-hover\");},\n",
       "        function() { $(this).removeClass(\"ui-state-hover\");}\n",
       "    );\n",
       "\n",
       "    var status_bar = $('<span class=\"mpl-message\"/>');\n",
       "    nav_element.append(status_bar);\n",
       "    this.message = status_bar[0];\n",
       "}\n",
       "\n",
       "mpl.figure.prototype.request_resize = function(x_pixels, y_pixels) {\n",
       "    // Request matplotlib to resize the figure. Matplotlib will then trigger a resize in the client,\n",
       "    // which will in turn request a refresh of the image.\n",
       "    this.send_message('resize', {'width': x_pixels, 'height': y_pixels});\n",
       "}\n",
       "\n",
       "mpl.figure.prototype.send_message = function(type, properties) {\n",
       "    properties['type'] = type;\n",
       "    properties['figure_id'] = this.id;\n",
       "    this.ws.send(JSON.stringify(properties));\n",
       "}\n",
       "\n",
       "mpl.figure.prototype.send_draw_message = function() {\n",
       "    if (!this.waiting) {\n",
       "        this.waiting = true;\n",
       "        this.ws.send(JSON.stringify({type: \"draw\", figure_id: this.id}));\n",
       "    }\n",
       "}\n",
       "\n",
       "\n",
       "mpl.figure.prototype.handle_save = function(fig, msg) {\n",
       "    var format_dropdown = fig.format_dropdown;\n",
       "    var format = format_dropdown.options[format_dropdown.selectedIndex].value;\n",
       "    fig.ondownload(fig, format);\n",
       "}\n",
       "\n",
       "\n",
       "mpl.figure.prototype.handle_resize = function(fig, msg) {\n",
       "    var size = msg['size'];\n",
       "    if (size[0] != fig.canvas.width || size[1] != fig.canvas.height) {\n",
       "        fig._resize_canvas(size[0], size[1]);\n",
       "        fig.send_message(\"refresh\", {});\n",
       "    };\n",
       "}\n",
       "\n",
       "mpl.figure.prototype.handle_rubberband = function(fig, msg) {\n",
       "    var x0 = msg['x0'] / mpl.ratio;\n",
       "    var y0 = (fig.canvas.height - msg['y0']) / mpl.ratio;\n",
       "    var x1 = msg['x1'] / mpl.ratio;\n",
       "    var y1 = (fig.canvas.height - msg['y1']) / mpl.ratio;\n",
       "    x0 = Math.floor(x0) + 0.5;\n",
       "    y0 = Math.floor(y0) + 0.5;\n",
       "    x1 = Math.floor(x1) + 0.5;\n",
       "    y1 = Math.floor(y1) + 0.5;\n",
       "    var min_x = Math.min(x0, x1);\n",
       "    var min_y = Math.min(y0, y1);\n",
       "    var width = Math.abs(x1 - x0);\n",
       "    var height = Math.abs(y1 - y0);\n",
       "\n",
       "    fig.rubberband_context.clearRect(\n",
       "        0, 0, fig.canvas.width, fig.canvas.height);\n",
       "\n",
       "    fig.rubberband_context.strokeRect(min_x, min_y, width, height);\n",
       "}\n",
       "\n",
       "mpl.figure.prototype.handle_figure_label = function(fig, msg) {\n",
       "    // Updates the figure title.\n",
       "    fig.header.textContent = msg['label'];\n",
       "}\n",
       "\n",
       "mpl.figure.prototype.handle_cursor = function(fig, msg) {\n",
       "    var cursor = msg['cursor'];\n",
       "    switch(cursor)\n",
       "    {\n",
       "    case 0:\n",
       "        cursor = 'pointer';\n",
       "        break;\n",
       "    case 1:\n",
       "        cursor = 'default';\n",
       "        break;\n",
       "    case 2:\n",
       "        cursor = 'crosshair';\n",
       "        break;\n",
       "    case 3:\n",
       "        cursor = 'move';\n",
       "        break;\n",
       "    }\n",
       "    fig.rubberband_canvas.style.cursor = cursor;\n",
       "}\n",
       "\n",
       "mpl.figure.prototype.handle_message = function(fig, msg) {\n",
       "    fig.message.textContent = msg['message'];\n",
       "}\n",
       "\n",
       "mpl.figure.prototype.handle_draw = function(fig, msg) {\n",
       "    // Request the server to send over a new figure.\n",
       "    fig.send_draw_message();\n",
       "}\n",
       "\n",
       "mpl.figure.prototype.handle_image_mode = function(fig, msg) {\n",
       "    fig.image_mode = msg['mode'];\n",
       "}\n",
       "\n",
       "mpl.figure.prototype.updated_canvas_event = function() {\n",
       "    // Called whenever the canvas gets updated.\n",
       "    this.send_message(\"ack\", {});\n",
       "}\n",
       "\n",
       "// A function to construct a web socket function for onmessage handling.\n",
       "// Called in the figure constructor.\n",
       "mpl.figure.prototype._make_on_message_function = function(fig) {\n",
       "    return function socket_on_message(evt) {\n",
       "        if (evt.data instanceof Blob) {\n",
       "            /* FIXME: We get \"Resource interpreted as Image but\n",
       "             * transferred with MIME type text/plain:\" errors on\n",
       "             * Chrome.  But how to set the MIME type?  It doesn't seem\n",
       "             * to be part of the websocket stream */\n",
       "            evt.data.type = \"image/png\";\n",
       "\n",
       "            /* Free the memory for the previous frames */\n",
       "            if (fig.imageObj.src) {\n",
       "                (window.URL || window.webkitURL).revokeObjectURL(\n",
       "                    fig.imageObj.src);\n",
       "            }\n",
       "\n",
       "            fig.imageObj.src = (window.URL || window.webkitURL).createObjectURL(\n",
       "                evt.data);\n",
       "            fig.updated_canvas_event();\n",
       "            fig.waiting = false;\n",
       "            return;\n",
       "        }\n",
       "        else if (typeof evt.data === 'string' && evt.data.slice(0, 21) == \"data:image/png;base64\") {\n",
       "            fig.imageObj.src = evt.data;\n",
       "            fig.updated_canvas_event();\n",
       "            fig.waiting = false;\n",
       "            return;\n",
       "        }\n",
       "\n",
       "        var msg = JSON.parse(evt.data);\n",
       "        var msg_type = msg['type'];\n",
       "\n",
       "        // Call the  \"handle_{type}\" callback, which takes\n",
       "        // the figure and JSON message as its only arguments.\n",
       "        try {\n",
       "            var callback = fig[\"handle_\" + msg_type];\n",
       "        } catch (e) {\n",
       "            console.log(\"No handler for the '\" + msg_type + \"' message type: \", msg);\n",
       "            return;\n",
       "        }\n",
       "\n",
       "        if (callback) {\n",
       "            try {\n",
       "                // console.log(\"Handling '\" + msg_type + \"' message: \", msg);\n",
       "                callback(fig, msg);\n",
       "            } catch (e) {\n",
       "                console.log(\"Exception inside the 'handler_\" + msg_type + \"' callback:\", e, e.stack, msg);\n",
       "            }\n",
       "        }\n",
       "    };\n",
       "}\n",
       "\n",
       "// from http://stackoverflow.com/questions/1114465/getting-mouse-location-in-canvas\n",
       "mpl.findpos = function(e) {\n",
       "    //this section is from http://www.quirksmode.org/js/events_properties.html\n",
       "    var targ;\n",
       "    if (!e)\n",
       "        e = window.event;\n",
       "    if (e.target)\n",
       "        targ = e.target;\n",
       "    else if (e.srcElement)\n",
       "        targ = e.srcElement;\n",
       "    if (targ.nodeType == 3) // defeat Safari bug\n",
       "        targ = targ.parentNode;\n",
       "\n",
       "    // jQuery normalizes the pageX and pageY\n",
       "    // pageX,Y are the mouse positions relative to the document\n",
       "    // offset() returns the position of the element relative to the document\n",
       "    var x = e.pageX - $(targ).offset().left;\n",
       "    var y = e.pageY - $(targ).offset().top;\n",
       "\n",
       "    return {\"x\": x, \"y\": y};\n",
       "};\n",
       "\n",
       "/*\n",
       " * return a copy of an object with only non-object keys\n",
       " * we need this to avoid circular references\n",
       " * http://stackoverflow.com/a/24161582/3208463\n",
       " */\n",
       "function simpleKeys (original) {\n",
       "  return Object.keys(original).reduce(function (obj, key) {\n",
       "    if (typeof original[key] !== 'object')\n",
       "        obj[key] = original[key]\n",
       "    return obj;\n",
       "  }, {});\n",
       "}\n",
       "\n",
       "mpl.figure.prototype.mouse_event = function(event, name) {\n",
       "    var canvas_pos = mpl.findpos(event)\n",
       "\n",
       "    if (name === 'button_press')\n",
       "    {\n",
       "        this.canvas.focus();\n",
       "        this.canvas_div.focus();\n",
       "    }\n",
       "\n",
       "    var x = canvas_pos.x * mpl.ratio;\n",
       "    var y = canvas_pos.y * mpl.ratio;\n",
       "\n",
       "    this.send_message(name, {x: x, y: y, button: event.button,\n",
       "                             step: event.step,\n",
       "                             guiEvent: simpleKeys(event)});\n",
       "\n",
       "    /* This prevents the web browser from automatically changing to\n",
       "     * the text insertion cursor when the button is pressed.  We want\n",
       "     * to control all of the cursor setting manually through the\n",
       "     * 'cursor' event from matplotlib */\n",
       "    event.preventDefault();\n",
       "    return false;\n",
       "}\n",
       "\n",
       "mpl.figure.prototype._key_event_extra = function(event, name) {\n",
       "    // Handle any extra behaviour associated with a key event\n",
       "}\n",
       "\n",
       "mpl.figure.prototype.key_event = function(event, name) {\n",
       "\n",
       "    // Prevent repeat events\n",
       "    if (name == 'key_press')\n",
       "    {\n",
       "        if (event.which === this._key)\n",
       "            return;\n",
       "        else\n",
       "            this._key = event.which;\n",
       "    }\n",
       "    if (name == 'key_release')\n",
       "        this._key = null;\n",
       "\n",
       "    var value = '';\n",
       "    if (event.ctrlKey && event.which != 17)\n",
       "        value += \"ctrl+\";\n",
       "    if (event.altKey && event.which != 18)\n",
       "        value += \"alt+\";\n",
       "    if (event.shiftKey && event.which != 16)\n",
       "        value += \"shift+\";\n",
       "\n",
       "    value += 'k';\n",
       "    value += event.which.toString();\n",
       "\n",
       "    this._key_event_extra(event, name);\n",
       "\n",
       "    this.send_message(name, {key: value,\n",
       "                             guiEvent: simpleKeys(event)});\n",
       "    return false;\n",
       "}\n",
       "\n",
       "mpl.figure.prototype.toolbar_button_onclick = function(name) {\n",
       "    if (name == 'download') {\n",
       "        this.handle_save(this, null);\n",
       "    } else {\n",
       "        this.send_message(\"toolbar_button\", {name: name});\n",
       "    }\n",
       "};\n",
       "\n",
       "mpl.figure.prototype.toolbar_button_onmouseover = function(tooltip) {\n",
       "    this.message.textContent = tooltip;\n",
       "};\n",
       "mpl.toolbar_items = [[\"Home\", \"Reset original view\", \"fa fa-home icon-home\", \"home\"], [\"Back\", \"Back to previous view\", \"fa fa-arrow-left icon-arrow-left\", \"back\"], [\"Forward\", \"Forward to next view\", \"fa fa-arrow-right icon-arrow-right\", \"forward\"], [\"\", \"\", \"\", \"\"], [\"Pan\", \"Pan axes with left mouse, zoom with right\", \"fa fa-arrows icon-move\", \"pan\"], [\"Zoom\", \"Zoom to rectangle\", \"fa fa-square-o icon-check-empty\", \"zoom\"], [\"\", \"\", \"\", \"\"], [\"Download\", \"Download plot\", \"fa fa-floppy-o icon-save\", \"download\"]];\n",
       "\n",
       "mpl.extensions = [\"eps\", \"jpeg\", \"pdf\", \"png\", \"ps\", \"raw\", \"svg\", \"tif\"];\n",
       "\n",
       "mpl.default_extension = \"png\";var comm_websocket_adapter = function(comm) {\n",
       "    // Create a \"websocket\"-like object which calls the given IPython comm\n",
       "    // object with the appropriate methods. Currently this is a non binary\n",
       "    // socket, so there is still some room for performance tuning.\n",
       "    var ws = {};\n",
       "\n",
       "    ws.close = function() {\n",
       "        comm.close()\n",
       "    };\n",
       "    ws.send = function(m) {\n",
       "        //console.log('sending', m);\n",
       "        comm.send(m);\n",
       "    };\n",
       "    // Register the callback with on_msg.\n",
       "    comm.on_msg(function(msg) {\n",
       "        //console.log('receiving', msg['content']['data'], msg);\n",
       "        // Pass the mpl event to the overridden (by mpl) onmessage function.\n",
       "        ws.onmessage(msg['content']['data'])\n",
       "    });\n",
       "    return ws;\n",
       "}\n",
       "\n",
       "mpl.mpl_figure_comm = function(comm, msg) {\n",
       "    // This is the function which gets called when the mpl process\n",
       "    // starts-up an IPython Comm through the \"matplotlib\" channel.\n",
       "\n",
       "    var id = msg.content.data.id;\n",
       "    // Get hold of the div created by the display call when the Comm\n",
       "    // socket was opened in Python.\n",
       "    var element = $(\"#\" + id);\n",
       "    var ws_proxy = comm_websocket_adapter(comm)\n",
       "\n",
       "    function ondownload(figure, format) {\n",
       "        window.open(figure.imageObj.src);\n",
       "    }\n",
       "\n",
       "    var fig = new mpl.figure(id, ws_proxy,\n",
       "                           ondownload,\n",
       "                           element.get(0));\n",
       "\n",
       "    // Call onopen now - mpl needs it, as it is assuming we've passed it a real\n",
       "    // web socket which is closed, not our websocket->open comm proxy.\n",
       "    ws_proxy.onopen();\n",
       "\n",
       "    fig.parent_element = element.get(0);\n",
       "    fig.cell_info = mpl.find_output_cell(\"<div id='\" + id + \"'></div>\");\n",
       "    if (!fig.cell_info) {\n",
       "        console.error(\"Failed to find cell for figure\", id, fig);\n",
       "        return;\n",
       "    }\n",
       "\n",
       "    var output_index = fig.cell_info[2]\n",
       "    var cell = fig.cell_info[0];\n",
       "\n",
       "};\n",
       "\n",
       "mpl.figure.prototype.handle_close = function(fig, msg) {\n",
       "    var width = fig.canvas.width/mpl.ratio\n",
       "    fig.root.unbind('remove')\n",
       "\n",
       "    // Update the output cell to use the data from the current canvas.\n",
       "    fig.push_to_output();\n",
       "    var dataURL = fig.canvas.toDataURL();\n",
       "    // Re-enable the keyboard manager in IPython - without this line, in FF,\n",
       "    // the notebook keyboard shortcuts fail.\n",
       "    IPython.keyboard_manager.enable()\n",
       "    $(fig.parent_element).html('<img src=\"' + dataURL + '\" width=\"' + width + '\">');\n",
       "    fig.close_ws(fig, msg);\n",
       "}\n",
       "\n",
       "mpl.figure.prototype.close_ws = function(fig, msg){\n",
       "    fig.send_message('closing', msg);\n",
       "    // fig.ws.close()\n",
       "}\n",
       "\n",
       "mpl.figure.prototype.push_to_output = function(remove_interactive) {\n",
       "    // Turn the data on the canvas into data in the output cell.\n",
       "    var width = this.canvas.width/mpl.ratio\n",
       "    var dataURL = this.canvas.toDataURL();\n",
       "    this.cell_info[1]['text/html'] = '<img src=\"' + dataURL + '\" width=\"' + width + '\">';\n",
       "}\n",
       "\n",
       "mpl.figure.prototype.updated_canvas_event = function() {\n",
       "    // Tell IPython that the notebook contents must change.\n",
       "    IPython.notebook.set_dirty(true);\n",
       "    this.send_message(\"ack\", {});\n",
       "    var fig = this;\n",
       "    // Wait a second, then push the new image to the DOM so\n",
       "    // that it is saved nicely (might be nice to debounce this).\n",
       "    setTimeout(function () { fig.push_to_output() }, 1000);\n",
       "}\n",
       "\n",
       "mpl.figure.prototype._init_toolbar = function() {\n",
       "    var fig = this;\n",
       "\n",
       "    var nav_element = $('<div/>')\n",
       "    nav_element.attr('style', 'width: 100%');\n",
       "    this.root.append(nav_element);\n",
       "\n",
       "    // Define a callback function for later on.\n",
       "    function toolbar_event(event) {\n",
       "        return fig.toolbar_button_onclick(event['data']);\n",
       "    }\n",
       "    function toolbar_mouse_event(event) {\n",
       "        return fig.toolbar_button_onmouseover(event['data']);\n",
       "    }\n",
       "\n",
       "    for(var toolbar_ind in mpl.toolbar_items){\n",
       "        var name = mpl.toolbar_items[toolbar_ind][0];\n",
       "        var tooltip = mpl.toolbar_items[toolbar_ind][1];\n",
       "        var image = mpl.toolbar_items[toolbar_ind][2];\n",
       "        var method_name = mpl.toolbar_items[toolbar_ind][3];\n",
       "\n",
       "        if (!name) { continue; };\n",
       "\n",
       "        var button = $('<button class=\"btn btn-default\" href=\"#\" title=\"' + name + '\"><i class=\"fa ' + image + ' fa-lg\"></i></button>');\n",
       "        button.click(method_name, toolbar_event);\n",
       "        button.mouseover(tooltip, toolbar_mouse_event);\n",
       "        nav_element.append(button);\n",
       "    }\n",
       "\n",
       "    // Add the status bar.\n",
       "    var status_bar = $('<span class=\"mpl-message\" style=\"text-align:right; float: right;\"/>');\n",
       "    nav_element.append(status_bar);\n",
       "    this.message = status_bar[0];\n",
       "\n",
       "    // Add the close button to the window.\n",
       "    var buttongrp = $('<div class=\"btn-group inline pull-right\"></div>');\n",
       "    var button = $('<button class=\"btn btn-mini btn-primary\" href=\"#\" title=\"Stop Interaction\"><i class=\"fa fa-power-off icon-remove icon-large\"></i></button>');\n",
       "    button.click(function (evt) { fig.handle_close(fig, {}); } );\n",
       "    button.mouseover('Stop Interaction', toolbar_mouse_event);\n",
       "    buttongrp.append(button);\n",
       "    var titlebar = this.root.find($('.ui-dialog-titlebar'));\n",
       "    titlebar.prepend(buttongrp);\n",
       "}\n",
       "\n",
       "mpl.figure.prototype._root_extra_style = function(el){\n",
       "    var fig = this\n",
       "    el.on(\"remove\", function(){\n",
       "\tfig.close_ws(fig, {});\n",
       "    });\n",
       "}\n",
       "\n",
       "mpl.figure.prototype._canvas_extra_style = function(el){\n",
       "    // this is important to make the div 'focusable\n",
       "    el.attr('tabindex', 0)\n",
       "    // reach out to IPython and tell the keyboard manager to turn it's self\n",
       "    // off when our div gets focus\n",
       "\n",
       "    // location in version 3\n",
       "    if (IPython.notebook.keyboard_manager) {\n",
       "        IPython.notebook.keyboard_manager.register_events(el);\n",
       "    }\n",
       "    else {\n",
       "        // location in version 2\n",
       "        IPython.keyboard_manager.register_events(el);\n",
       "    }\n",
       "\n",
       "}\n",
       "\n",
       "mpl.figure.prototype._key_event_extra = function(event, name) {\n",
       "    var manager = IPython.notebook.keyboard_manager;\n",
       "    if (!manager)\n",
       "        manager = IPython.keyboard_manager;\n",
       "\n",
       "    // Check for shift+enter\n",
       "    if (event.shiftKey && event.which == 13) {\n",
       "        this.canvas_div.blur();\n",
       "        event.shiftKey = false;\n",
       "        // Send a \"J\" for go to next cell\n",
       "        event.which = 74;\n",
       "        event.keyCode = 74;\n",
       "        manager.command_mode();\n",
       "        manager.handle_keydown(event);\n",
       "    }\n",
       "}\n",
       "\n",
       "mpl.figure.prototype.handle_save = function(fig, msg) {\n",
       "    fig.ondownload(fig, null);\n",
       "}\n",
       "\n",
       "\n",
       "mpl.find_output_cell = function(html_output) {\n",
       "    // Return the cell and output element which can be found *uniquely* in the notebook.\n",
       "    // Note - this is a bit hacky, but it is done because the \"notebook_saving.Notebook\"\n",
       "    // IPython event is triggered only after the cells have been serialised, which for\n",
       "    // our purposes (turning an active figure into a static one), is too late.\n",
       "    var cells = IPython.notebook.get_cells();\n",
       "    var ncells = cells.length;\n",
       "    for (var i=0; i<ncells; i++) {\n",
       "        var cell = cells[i];\n",
       "        if (cell.cell_type === 'code'){\n",
       "            for (var j=0; j<cell.output_area.outputs.length; j++) {\n",
       "                var data = cell.output_area.outputs[j];\n",
       "                if (data.data) {\n",
       "                    // IPython >= 3 moved mimebundle to data attribute of output\n",
       "                    data = data.data;\n",
       "                }\n",
       "                if (data['text/html'] == html_output) {\n",
       "                    return [cell, data, j];\n",
       "                }\n",
       "            }\n",
       "        }\n",
       "    }\n",
       "}\n",
       "\n",
       "// Register the function which deals with the matplotlib target/channel.\n",
       "// The kernel may be null if the page has been refreshed.\n",
       "if (IPython.notebook.kernel != null) {\n",
       "    IPython.notebook.kernel.comm_manager.register_target('matplotlib', mpl.mpl_figure_comm);\n",
       "}\n"
      ],
      "text/plain": [
       "<IPython.core.display.Javascript object>"
      ]
     },
     "metadata": {},
     "output_type": "display_data"
    },
    {
     "data": {
      "text/html": [
       "<img src=\"data:image/png;base64,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\" width=\"640\">"
      ],
      "text/plain": [
       "<IPython.core.display.HTML object>"
      ]
     },
     "metadata": {},
     "output_type": "display_data"
    },
    {
     "data": {
      "text/plain": [
       "Text(0.5, 0, 'C')"
      ]
     },
     "execution_count": 266,
     "metadata": {},
     "output_type": "execute_result"
    }
   ],
   "source": [
    "from mpl_toolkits import mplot3d\n",
    "%matplotlib notebook\n",
    "ax = plt.axes(projection='3d')\n",
    "x_data=X.iloc[:,0].values\n",
    "y_data = X.iloc[:,1].values\n",
    "z_data = Y.values\n",
    "ax.scatter3D(x_data,y_data,z_data)\n",
    "ax.set_xlabel('A')\n",
    "ax.set_ylabel('B')\n",
    "ax.set_zlabel('C')\n",
    "# ax.scatter3D(x_data,y_data,Y_pred)"
   ]
  },
  {
   "cell_type": "code",
   "execution_count": null,
   "metadata": {},
   "outputs": [],
   "source": []
  },
  {
   "cell_type": "code",
   "execution_count": 293,
   "metadata": {},
   "outputs": [
    {
     "ename": "AttributeError",
     "evalue": "'Figure' object has no attribute 'xlabel'",
     "output_type": "error",
     "traceback": [
      "\u001b[0;31m---------------------------------------------------------------------------\u001b[0m",
      "\u001b[0;31mAttributeError\u001b[0m                            Traceback (most recent call last)",
      "\u001b[0;32m<ipython-input-293-4436e3e3952e>\u001b[0m in \u001b[0;36m<module>\u001b[0;34m\u001b[0m\n\u001b[1;32m      1\u001b[0m \u001b[0mfig\u001b[0m\u001b[0;34m,\u001b[0m\u001b[0max\u001b[0m \u001b[0;34m=\u001b[0m \u001b[0mplt\u001b[0m\u001b[0;34m.\u001b[0m\u001b[0msubplots\u001b[0m\u001b[0;34m(\u001b[0m\u001b[0;34m)\u001b[0m\u001b[0;34m\u001b[0m\u001b[0;34m\u001b[0m\u001b[0m\n\u001b[1;32m      2\u001b[0m \u001b[0mplt\u001b[0m\u001b[0;34m.\u001b[0m\u001b[0mscatter\u001b[0m\u001b[0;34m(\u001b[0m\u001b[0mrange\u001b[0m\u001b[0;34m(\u001b[0m\u001b[0mlen\u001b[0m\u001b[0;34m(\u001b[0m\u001b[0mY\u001b[0m\u001b[0;34m)\u001b[0m\u001b[0;34m)\u001b[0m\u001b[0;34m,\u001b[0m\u001b[0mY_pred\u001b[0m\u001b[0;34m-\u001b[0m\u001b[0mY\u001b[0m\u001b[0;34m)\u001b[0m\u001b[0;34m\u001b[0m\u001b[0;34m\u001b[0m\u001b[0m\n\u001b[0;32m----> 3\u001b[0;31m \u001b[0mfig\u001b[0m\u001b[0;34m.\u001b[0m\u001b[0mxlabel\u001b[0m\u001b[0;34m(\u001b[0m\u001b[0;34m'A'\u001b[0m\u001b[0;34m)\u001b[0m\u001b[0;34m\u001b[0m\u001b[0;34m\u001b[0m\u001b[0m\n\u001b[0m",
      "\u001b[0;31mAttributeError\u001b[0m: 'Figure' object has no attribute 'xlabel'"
     ]
    },
    {
     "data": {
      "image/png": "[encoded data removed]",
      "text/plain": [
       "<Figure size 432x288 with 1 Axes>"
      ]
     },
     "metadata": {},
     "output_type": "display_data"
    }
   ],
   "source": [
    "fig,ax = plt.subplots()\n",
    "plt.scatter(range(len(Y)),Y_pred-Y)\n",
    "fig.xlabel('A')"
   ]
  },
  {
   "cell_type": "code",
   "execution_count": null,
   "metadata": {},
   "outputs": [],
   "source": []
  }
 ],
 "metadata": {
  "kernelspec": {
   "display_name": "Python 3",
   "language": "python",
   "name": "python3"
  },
  "language_info": {
   "codemirror_mode": {
    "name": "ipython",
    "version": 3
   },
   "file_extension": ".py",
   "mimetype": "text/x-python",
   "name": "python",
   "nbconvert_exporter": "python",
   "pygments_lexer": "ipython3",
   "version": "3.7.3"
  }
 },
 "nbformat": 4,
 "nbformat_minor": 2
}
